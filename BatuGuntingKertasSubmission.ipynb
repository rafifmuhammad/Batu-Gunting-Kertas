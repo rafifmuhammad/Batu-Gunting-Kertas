{
  "nbformat": 4,
  "nbformat_minor": 0,
  "metadata": {
    "colab": {
      "name": "BatuGuntingKertasSubmission.ipynb",
      "provenance": [],
      "collapsed_sections": []
    },
    "kernelspec": {
      "display_name": "Python 3",
      "name": "python3"
    }
  },
  "cells": [
    {
      "cell_type": "markdown",
      "metadata": {
        "id": "v_zzEgN8K8vG"
      },
      "source": [
        "NAMA : RAFIF MUHAMMAD\n",
        "\n",
        "EMAIL : rafifbanner@gmail.com\n",
        "\n",
        "PROFILE : https://www.dicoding.com/users/SolsticeID"
      ]
    },
    {
      "cell_type": "code",
      "metadata": {
        "id": "GBKsaTU2K6V6"
      },
      "source": [
        "import tensorflow as tf\n",
        "from tensorflow.keras.optimizers import RMSprop\n",
        "from tensorflow.keras.preprocessing.image import ImageDataGenerator"
      ],
      "execution_count": null,
      "outputs": []
    },
    {
      "cell_type": "code",
      "metadata": {
        "colab": {
          "base_uri": "https://localhost:8080/"
        },
        "id": "QpGMPb-FLBYD",
        "outputId": "753931dd-a29d-4c16-c16f-bca0e5f06cb7"
      },
      "source": [
        "!wget --no-check-certificate \\\n",
        "  https://dicodingacademy.blob.core.windows.net/picodiploma/ml_pemula_academy/rockpaperscissors.zip -O /tmp/rockpaperscissors.zip"
      ],
      "execution_count": null,
      "outputs": [
        {
          "output_type": "stream",
          "name": "stdout",
          "text": [
            "--2021-09-02 07:00:29--  https://dicodingacademy.blob.core.windows.net/picodiploma/ml_pemula_academy/rockpaperscissors.zip\n",
            "Resolving dicodingacademy.blob.core.windows.net (dicodingacademy.blob.core.windows.net)... 52.239.197.36\n",
            "Connecting to dicodingacademy.blob.core.windows.net (dicodingacademy.blob.core.windows.net)|52.239.197.36|:443... connected.\n",
            "HTTP request sent, awaiting response... 404 The specified resource does not exist.\n",
            "2021-09-02 07:00:30 ERROR 404: The specified resource does not exist..\n",
            "\n"
          ]
        }
      ]
    },
    {
      "cell_type": "code",
      "metadata": {
        "colab": {
          "base_uri": "https://localhost:8080/"
        },
        "id": "5lVH_bBELDdD",
        "outputId": "963af06b-6d9c-435b-a73d-bfcb0f3f7e7a"
      },
      "source": [
        "pip install split-folders"
      ],
      "execution_count": null,
      "outputs": [
        {
          "output_type": "stream",
          "name": "stdout",
          "text": [
            "Collecting split-folders\n",
            "  Downloading split_folders-0.4.3-py3-none-any.whl (7.4 kB)\n",
            "Installing collected packages: split-folders\n",
            "Successfully installed split-folders-0.4.3\n"
          ]
        }
      ]
    },
    {
      "cell_type": "code",
      "metadata": {
        "id": "ez-iFqL0LF2z"
      },
      "source": [
        "import zipfile, os\n",
        "import splitfolders\n",
        "\n",
        "# Melakukan ekstraksi pada file\n",
        "local_zip = '/tmp/rockpaperscissors.zip'\n",
        "zip_ref = zipfile.ZipFile(local_zip, 'r')\n",
        "zip_ref.extractall('/tmp')\n",
        "zip_ref.close()"
      ],
      "execution_count": null,
      "outputs": []
    },
    {
      "cell_type": "code",
      "metadata": {
        "colab": {
          "base_uri": "https://localhost:8080/",
          "height": 33
        },
        "id": "J1aTRqBqLHsE",
        "outputId": "94768fab-42f8-4c22-ba87-2d85c0fe1df3"
      },
      "source": [
        "base_dir = '/tmp/rockpaperscissors/rps-cv-images'\n",
        "splitfolders.ratio(base_dir, output='/tmp/rockpaperscissors', seed = 1337, ratio = (.6, .4))\n",
        "train_dir = os.path.join('/tmp/rockpaperscissors', 'train')\n",
        "validation_dir = os.path.join('/tmp/rockpaperscissors', 'val')"
      ],
      "execution_count": null,
      "outputs": [
        {
          "name": "stderr",
          "output_type": "stream",
          "text": [
            "Copying files: 2188 files [00:00, 3601.93 files/s]\n"
          ]
        }
      ]
    },
    {
      "cell_type": "code",
      "metadata": {
        "colab": {
          "base_uri": "https://localhost:8080/",
          "height": 33
        },
        "id": "JAAGq6CmLinW",
        "outputId": "f1c1f027-a293-4b1a-f6f8-da055b4b0128"
      },
      "source": [
        "os.listdir(train_dir)"
      ],
      "execution_count": null,
      "outputs": [
        {
          "data": {
            "text/plain": [
              "['rock', 'scissors', 'paper']"
            ]
          },
          "execution_count": 7,
          "metadata": {
            "tags": []
          },
          "output_type": "execute_result"
        }
      ]
    },
    {
      "cell_type": "code",
      "metadata": {
        "colab": {
          "base_uri": "https://localhost:8080/",
          "height": 33
        },
        "id": "kfXLhckNLkl0",
        "outputId": "ec005eb3-3bce-4428-b0f6-e9fa2e811cf5"
      },
      "source": [
        "os.listdir(validation_dir)"
      ],
      "execution_count": null,
      "outputs": [
        {
          "data": {
            "text/plain": [
              "['rock', 'scissors', 'paper']"
            ]
          },
          "execution_count": 8,
          "metadata": {
            "tags": []
          },
          "output_type": "execute_result"
        }
      ]
    },
    {
      "cell_type": "code",
      "metadata": {
        "id": "4FvbavnSLszr"
      },
      "source": [
        "rock_dir = os.path.join(base_dir, 'rock')\n",
        "paper_dir = os.path.join(base_dir, 'paper')\n",
        "scissors_dir = os.path.join(base_dir, 'scissors')"
      ],
      "execution_count": null,
      "outputs": []
    },
    {
      "cell_type": "code",
      "metadata": {
        "id": "SWfl5rHoL5sr"
      },
      "source": [
        "from sklearn.model_selection import train_test_split\n",
        "\n",
        "# Memecah direktori rock menjadi data train dan data validation\n",
        "train_rock_dir, val_rock_dir = train_test_split(os.listdir(rock_dir), test_size = 0.4)\n",
        "\n",
        "# Memecah direktori paper menjadi data train dan data validation\n",
        "train_paper_dir, val_paper_dir = train_test_split(os.listdir(paper_dir), test_size = 0.4)\n",
        "\n",
        "# Memecah direktori scissors menjadi data train dan data validation\n",
        "train_scissors_dir, val_scissors_dir = train_test_split(os.listdir(scissors_dir), test_size = 0.4)"
      ],
      "execution_count": null,
      "outputs": []
    },
    {
      "cell_type": "code",
      "metadata": {
        "id": "p6-JNy9RMCd8"
      },
      "source": [
        "# Membuat direktori rock, paper, dan scissors pada direktori data training\n",
        "train_rock = os.path.join(train_dir, 'rock')\n",
        "train_paper = os.path.join(train_dir, 'paper')\n",
        "train_scissors = os.path.join(train_dir, 'scissors')\n",
        "\n",
        "# Membuat direktori rock, paper, dan scissors pada direktori data validation\n",
        "val_rock = os.path.join(validation_dir, 'rock')\n",
        "val_paper = os.path.join(validation_dir, 'paper')\n",
        "val_scissors = os.path.join(validation_dir, 'scissors')"
      ],
      "execution_count": null,
      "outputs": []
    },
    {
      "cell_type": "code",
      "metadata": {
        "id": "hMoRgU3xMT9c"
      },
      "source": [
        "train_datagen = ImageDataGenerator(\n",
        "    rescale = 1./255,\n",
        "    rotation_range = 20,\n",
        "    horizontal_flip = True,\n",
        "    shear_range = 0.2,\n",
        "    fill_mode = 'nearest')\n",
        "\n",
        "test_datagen = ImageDataGenerator(\n",
        "    rescale = 1./255,\n",
        "    rotation_range = 20,\n",
        "    horizontal_flip = True,\n",
        "    shear_range = 0.2,\n",
        "    fill_mode = 'nearest')"
      ],
      "execution_count": null,
      "outputs": []
    },
    {
      "cell_type": "code",
      "metadata": {
        "colab": {
          "base_uri": "https://localhost:8080/",
          "height": 50
        },
        "id": "Ci6CBiFINhdV",
        "outputId": "5f4d8561-4043-4378-a9bd-7e38c58a676e"
      },
      "source": [
        "train_generator = test_datagen.flow_from_directory(\n",
        "    train_dir,\n",
        "    target_size = (150, 150),\n",
        "    batch_size = 32,\n",
        "    class_mode = 'categorical')\n",
        "\n",
        "validation_generator = test_datagen.flow_from_directory(\n",
        "    validation_dir,\n",
        "    target_size = (150, 150),\n",
        "    batch_size = 32,\n",
        "    class_mode = 'categorical')"
      ],
      "execution_count": null,
      "outputs": [
        {
          "name": "stdout",
          "output_type": "stream",
          "text": [
            "Found 1312 images belonging to 3 classes.\n",
            "Found 876 images belonging to 3 classes.\n"
          ]
        }
      ]
    },
    {
      "cell_type": "code",
      "metadata": {
        "id": "tKfyzs-ZOgx8"
      },
      "source": [
        "model  = tf.keras.models.Sequential([\n",
        "       tf.keras.layers.Conv2D(32, (3,3), activation='relu', input_shape=(150, 150, 3)),\n",
        "       tf.keras.layers.MaxPooling2D(2, 2),\n",
        "       tf.keras.layers.Conv2D(64, (3,3), activation='relu'),\n",
        "       tf.keras.layers.MaxPooling2D(2, 2),\n",
        "       tf.keras.layers.Conv2D(128, (3,3), activation='relu'),\n",
        "       tf.keras.layers.MaxPooling2D(2, 2),\n",
        "       tf.keras.layers.Conv2D(256, (3,3), activation='relu'),\n",
        "       tf.keras.layers.MaxPooling2D(2, 2),\n",
        "       tf.keras.layers.Flatten(),\n",
        "       tf.keras.layers.Dense(512, activation='relu'),\n",
        "       tf.keras.layers.Dense(3, activation='softmax')\n",
        "])"
      ],
      "execution_count": null,
      "outputs": []
    },
    {
      "cell_type": "code",
      "metadata": {
        "id": "8Q4sOTOgQTCd"
      },
      "source": [
        "model.compile(loss = 'categorical_crossentropy',\n",
        "              optimizer = tf.optimizers.Adam(),\n",
        "              metrics = ['accuracy'])\n"
      ],
      "execution_count": null,
      "outputs": []
    },
    {
      "cell_type": "code",
      "metadata": {
        "colab": {
          "base_uri": "https://localhost:8080/",
          "height": 705
        },
        "id": "rI1-benTQsbU",
        "outputId": "ed903d03-02fd-4d84-d924-38722ed9f085"
      },
      "source": [
        "model.fit(\n",
        "    train_generator,\n",
        "    steps_per_epoch = 25,\n",
        "    epochs = 20,\n",
        "    validation_data = validation_generator,\n",
        "    validation_steps = 5,\n",
        "    verbose = 2)"
      ],
      "execution_count": null,
      "outputs": [
        {
          "name": "stdout",
          "output_type": "stream",
          "text": [
            "Epoch 1/20\n",
            "25/25 - 43s - loss: 1.0897 - accuracy: 0.3600 - val_loss: 0.9034 - val_accuracy: 0.7250\n",
            "Epoch 2/20\n",
            "25/25 - 43s - loss: 0.6628 - accuracy: 0.7225 - val_loss: 0.4370 - val_accuracy: 0.8438\n",
            "Epoch 3/20\n",
            "25/25 - 43s - loss: 0.3596 - accuracy: 0.8838 - val_loss: 0.2504 - val_accuracy: 0.9250\n",
            "Epoch 4/20\n",
            "25/25 - 43s - loss: 0.2070 - accuracy: 0.9287 - val_loss: 0.3219 - val_accuracy: 0.8625\n",
            "Epoch 5/20\n",
            "25/25 - 42s - loss: 0.2703 - accuracy: 0.9062 - val_loss: 0.1703 - val_accuracy: 0.9625\n",
            "Epoch 6/20\n",
            "25/25 - 42s - loss: 0.1717 - accuracy: 0.9450 - val_loss: 0.1721 - val_accuracy: 0.9750\n",
            "Epoch 7/20\n",
            "25/25 - 42s - loss: 0.1238 - accuracy: 0.9638 - val_loss: 0.1463 - val_accuracy: 0.9500\n",
            "Epoch 8/20\n",
            "25/25 - 43s - loss: 0.1568 - accuracy: 0.9413 - val_loss: 0.1166 - val_accuracy: 0.9688\n",
            "Epoch 9/20\n",
            "25/25 - 43s - loss: 0.1250 - accuracy: 0.9588 - val_loss: 0.1390 - val_accuracy: 0.9500\n",
            "Epoch 10/20\n",
            "25/25 - 48s - loss: 0.0938 - accuracy: 0.9675 - val_loss: 0.0935 - val_accuracy: 0.9625\n",
            "Epoch 11/20\n",
            "25/25 - 43s - loss: 0.0617 - accuracy: 0.9812 - val_loss: 0.0713 - val_accuracy: 0.9812\n",
            "Epoch 12/20\n",
            "25/25 - 43s - loss: 0.1387 - accuracy: 0.9588 - val_loss: 0.1899 - val_accuracy: 0.9375\n",
            "Epoch 13/20\n",
            "25/25 - 43s - loss: 0.1381 - accuracy: 0.9575 - val_loss: 0.1522 - val_accuracy: 0.9375\n",
            "Epoch 14/20\n",
            "25/25 - 43s - loss: 0.0760 - accuracy: 0.9725 - val_loss: 0.0622 - val_accuracy: 0.9812\n",
            "Epoch 15/20\n",
            "25/25 - 42s - loss: 0.0596 - accuracy: 0.9812 - val_loss: 0.0621 - val_accuracy: 0.9875\n",
            "Epoch 16/20\n",
            "25/25 - 43s - loss: 0.0732 - accuracy: 0.9800 - val_loss: 0.0901 - val_accuracy: 0.9688\n",
            "Epoch 17/20\n",
            "25/25 - 43s - loss: 0.0439 - accuracy: 0.9862 - val_loss: 0.0126 - val_accuracy: 1.0000\n",
            "Epoch 18/20\n",
            "25/25 - 42s - loss: 0.0266 - accuracy: 0.9887 - val_loss: 0.0390 - val_accuracy: 0.9875\n",
            "Epoch 19/20\n",
            "25/25 - 43s - loss: 0.0409 - accuracy: 0.9875 - val_loss: 0.0294 - val_accuracy: 0.9937\n",
            "Epoch 20/20\n",
            "25/25 - 43s - loss: 0.0552 - accuracy: 0.9862 - val_loss: 0.1110 - val_accuracy: 0.9625\n"
          ]
        },
        {
          "data": {
            "text/plain": [
              "<tensorflow.python.keras.callbacks.History at 0x7feebf2eac88>"
            ]
          },
          "execution_count": 16,
          "metadata": {
            "tags": []
          },
          "output_type": "execute_result"
        }
      ]
    },
    {
      "cell_type": "code",
      "metadata": {
        "id": "z-K8qcr2V6et"
      },
      "source": [
        "import numpy as np\n",
        "from google.colab import files\n",
        "from keras.preprocessing import image\n",
        "import matplotlib.pyplot as plt\n",
        "import matplotlib.image as mpimg\n",
        "%matplotlib inline\n",
        "\n",
        "uploaded = files.upload()\n",
        "\n",
        "for fn in uploaded.keys():\n",
        "  path = fn\n",
        "  img = image.load_img(path, target_size = (150, 150))\n",
        "  imgplot = plt.imshow(img)\n",
        "  x = image.img_to_array(img)\n",
        "  x = np.expand_dims(x, axis = 0)\n",
        "\n",
        "  images = np.vstack([x])\n",
        "  classes = model.predict(images, batch_size = 10)\n",
        "\n",
        "  print(fn)\n",
        "  if classes[0][0] == 1:\n",
        "    print('Kertas')\n",
        "  elif classes[0][1] == 1:\n",
        "    print('Batu')\n",
        "  else:\n",
        "    print('Gunting')"
      ],
      "execution_count": null,
      "outputs": []
    }
  ]
}